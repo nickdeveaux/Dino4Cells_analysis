{
 "cells": [
  {
   "cell_type": "code",
   "execution_count": 1,
   "id": "6387e7d8-0265-471a-8958-fec874ff6d74",
   "metadata": {},
   "outputs": [],
   "source": [
    "from skimage import io"
   ]
  },
  {
   "cell_type": "code",
   "execution_count": null,
   "id": "a1acad8c-58ac-434a-a967-cd6789997a5c",
   "metadata": {},
   "outputs": [],
   "source": []
  },
  {
   "cell_type": "code",
   "execution_count": 8,
   "id": "d8f04b8b-56be-42ab-b86f-ca8e2d5393c3",
   "metadata": {},
   "outputs": [
    {
     "name": "stdout",
     "output_type": "stream",
     "text": [
      "CUDA_VISIBLE_DEVICES=0 python3 -m torch.distributed.launch --master_port=29501 --nproc_per_node=1 main_dino.py --arch vit_tiny --output_dir output_1d --data_path ~/1d.csv  --saveckp_freq 50 --batch_size_per_gpu 64 --num_channels 1 --patch_size 16 --local_crops_scale 0.2 0.5 --epochs 10 --config exploratory_configs/config_HPA_FOV_1d_12_4.yml --center_momentum 0.9 --lr 0.0005  \n",
      "/home/nick/miniconda3/envs/dino_cuda12/lib/python3.9/site-packages/torch/distributed/launch.py:178: FutureWarning: The module torch.distributed.launch is deprecated\n",
      "and will be removed in future. Use torchrun.\n",
      "Note that --use_env is set by default in torchrun.\n",
      "If your script expects `--local_rank` argument to be set, please\n",
      "change it to read from `os.environ['LOCAL_RANK']` instead. See \n",
      "https://pytorch.org/docs/stable/distributed.html#launch-utility for \n",
      "further instructions\n",
      "\n",
      "  warnings.warn(\n",
      "Traceback (most recent call last):\n",
      "  File \"/home/nick/Dino4Cells_analysis/main_dino.py\", line 753, in <module>\n",
      "    train_dino(args, config)\n",
      "  File \"/home/nick/Dino4Cells_analysis/main_dino.py\", line 346, in train_dino\n",
      "    utils.init_distributed_mode(args)\n",
      "  File \"/home/nick/Dino4Cells_analysis/utils/utils.py\", line 502, in init_distributed_mode\n",
      "    dist.init_process_group(\n",
      "  File \"/home/nick/miniconda3/envs/dino_cuda12/lib/python3.9/site-packages/torch/distributed/distributed_c10d.py\", line 602, in init_process_group\n",
      "    default_pg = _new_process_group_helper(\n",
      "  File \"/home/nick/miniconda3/envs/dino_cuda12/lib/python3.9/site-packages/torch/distributed/distributed_c10d.py\", line 738, in _new_process_group_helper\n",
      "    pg = ProcessGroupNCCL(prefix_store, rank, world_size, pg_options)\n",
      "RuntimeError: ProcessGroupNCCL is only supported with GPUs, no GPUs found!\n",
      "ERROR:torch.distributed.elastic.multiprocessing.api:failed (exitcode: 1) local_rank: 0 (pid: 28925) of binary: /home/nick/miniconda3/envs/dino_cuda12/bin/python3\n",
      "Traceback (most recent call last):\n",
      "  File \"/home/nick/miniconda3/envs/dino_cuda12/lib/python3.9/runpy.py\", line 197, in _run_module_as_main\n",
      "    return _run_code(code, main_globals, None,\n",
      "  File \"/home/nick/miniconda3/envs/dino_cuda12/lib/python3.9/runpy.py\", line 87, in _run_code\n",
      "    exec(code, run_globals)\n",
      "  File \"/home/nick/miniconda3/envs/dino_cuda12/lib/python3.9/site-packages/torch/distributed/launch.py\", line 193, in <module>\n",
      "    main()\n",
      "  File \"/home/nick/miniconda3/envs/dino_cuda12/lib/python3.9/site-packages/torch/distributed/launch.py\", line 189, in main\n",
      "    launch(args)\n",
      "  File \"/home/nick/miniconda3/envs/dino_cuda12/lib/python3.9/site-packages/torch/distributed/launch.py\", line 174, in launch\n",
      "    run(args)\n",
      "  File \"/home/nick/miniconda3/envs/dino_cuda12/lib/python3.9/site-packages/torch/distributed/run.py\", line 752, in run\n",
      "    elastic_launch(\n",
      "  File \"/home/nick/miniconda3/envs/dino_cuda12/lib/python3.9/site-packages/torch/distributed/launcher/api.py\", line 131, in __call__\n",
      "    return launch_agent(self._config, self._entrypoint, list(args))\n",
      "  File \"/home/nick/miniconda3/envs/dino_cuda12/lib/python3.9/site-packages/torch/distributed/launcher/api.py\", line 245, in launch_agent\n",
      "    raise ChildFailedError(\n",
      "torch.distributed.elastic.multiprocessing.errors.ChildFailedError: \n",
      "============================================================\n",
      "main_dino.py FAILED\n",
      "------------------------------------------------------------\n",
      "Failures:\n",
      "  <NO_OTHER_FAILURES>\n",
      "------------------------------------------------------------\n",
      "Root Cause (first observed failure):\n",
      "[0]:\n",
      "  time      : 2023-12-05_00:17:52\n",
      "  host      : colab-2-vm.c.andrena-tech.internal\n",
      "  rank      : 0 (local_rank: 0)\n",
      "  exitcode  : 1 (pid: 28925)\n",
      "  error_file: <N/A>\n",
      "  traceback : To enable traceback see: https://pytorch.org/docs/stable/elastic/errors.html\n",
      "============================================================\n"
     ]
    }
   ],
   "source": [
    "!cd ~/Dino4Cells_analysis; python run_dino.py --config  exploratory_configs/config_HPA_FOV_1d_12_4.yml --master_port \"29501\" --gpus \"0\""
   ]
  },
  {
   "cell_type": "code",
   "execution_count": 35,
   "id": "bdccf555-f10b-405d-b331-1d1d4f09269d",
   "metadata": {},
   "outputs": [],
   "source": [
    "import os\n",
    "os.chdir('/home/nick/Dino4Cells_analysis')\n",
    "import torch\n",
    "import pandas as pd\n",
    "import numpy as np\n",
    "import yaml\n",
    "from sklearn import decomposition\n",
    "import matplotlib\n",
    "import matplotlib.pyplot as plt\n",
    "import matplotlib.ticker as mtick\n",
    "from matplotlib import cm\n",
    "from tqdm import tqdm\n",
    "from utils.label_dict import protein_to_num_single_cells\n",
    "from scipy.spatial.distance import pdist, cdist\n",
    "from scipy.spatial.distance import squareform\n",
    "from scipy.cluster.hierarchy import dendrogram, linkage, fcluster\n",
    "from seaborn import clustermap\n",
    "from skimage import io\n",
    "from sklearn.metrics import confusion_matrix, ConfusionMatrixDisplay\n",
    "from scipy.sparse.linalg import eigs\n",
    "from scipy.stats import ttest_ind, zscore, norm\n",
    "import seaborn as sb\n",
    "from main_dino import *"
   ]
  },
  {
   "cell_type": "code",
   "execution_count": 36,
   "id": "afd67b17-5b0c-42b8-919f-7281c16cd3a1",
   "metadata": {},
   "outputs": [],
   "source": [
    "config = yaml.safe_load(open('exploratory_configs/config_HPA_FOV_1d_12_4.yml', \"r\"))"
   ]
  },
  {
   "cell_type": "code",
   "execution_count": 37,
   "id": "f2d52df5-6356-438b-9444-3eac7ac33d40",
   "metadata": {},
   "outputs": [],
   "source": [
    "parser = argparse.ArgumentParser(\"DINO\", parents=[get_args_parser()])"
   ]
  },
  {
   "cell_type": "code",
   "execution_count": 44,
   "id": "745cf3d2-0bd2-4178-b76d-6e7dbc977719",
   "metadata": {},
   "outputs": [
    {
     "data": {
      "text/plain": [
       "_StoreAction(option_strings=['--lr'], dest='lr', nargs=None, const=None, default=None, type=<class 'float'>, choices=None, required=False, help='Learning rate', metavar=None)"
      ]
     },
     "execution_count": 44,
     "metadata": {},
     "output_type": "execute_result"
    }
   ],
   "source": [
    "import argparse\n",
    "\n",
    "# Define the parser and add arguments\n",
    "parser = argparse.ArgumentParser(description='Argument parser example')\n",
    "parser.add_argument('--arch', type=str, help='Architecture')\n",
    "parser.add_argument('--output_dir', type=str, help='Output directory')\n",
    "parser.add_argument('--data_path', type=str, help='Path to data')\n",
    "parser.add_argument('--saveckp_freq', type=int, help='Frequency to save checkpoints')\n",
    "parser.add_argument('--batch_size_per_gpu', type=int, help='Batch size per GPU')\n",
    "parser.add_argument('--num_channels', type=int, help='Number of channels')\n",
    "parser.add_argument('--patch_size', type=int, help='Patch size')\n",
    "parser.add_argument('--local_crops_scale', type=float, nargs=2, help='Local crops scale')\n",
    "parser.add_argument('--epochs', type=int, help='Number of epochs')\n",
    "parser.add_argument('--config', type=str, help='Path to config file')\n",
    "parser.add_argument('--center_momentum', type=float, help='Center momentum')\n",
    "parser.add_argument('--lr', type=float, help='Learning rate')\n"
   ]
  },
  {
   "cell_type": "code",
   "execution_count": 45,
   "id": "f226ffd0-b508-4cb3-aaaf-48db02131642",
   "metadata": {},
   "outputs": [],
   "source": [
    "arg_str = '--arch vit_tiny --output_dir output_1d --data_path ~/1d.csv  --saveckp_freq 50 --batch_size_per_gpu 64 --num_channels 1 --patch_size 16 --local_crops_scale 0.2 0.5 --epochs 10 --config exploratory_configs/config_HPA_FOV_1d_12_4.yml --center_momentum 0.9 --lr 0.0005'"
   ]
  },
  {
   "cell_type": "code",
   "execution_count": 47,
   "id": "243a2f59-380b-4cbf-9c6c-ab3a69a7e0cb",
   "metadata": {},
   "outputs": [],
   "source": [
    "# Split the arguments string and parse the arguments\n",
    "args = parser.parse_args(arg_str.split())"
   ]
  },
  {
   "cell_type": "code",
   "execution_count": 49,
   "id": "28be8656-d7bc-4d29-b95b-620c894ed5b9",
   "metadata": {},
   "outputs": [],
   "source": [
    "args.seed = 42"
   ]
  },
  {
   "cell_type": "code",
   "execution_count": 24,
   "id": "cc11a017-a453-4d74-ab8e-01e3aad67663",
   "metadata": {},
   "outputs": [
    {
     "name": "stdout",
     "output_type": "stream",
     "text": [
      "Does not support training without GPU.\n",
      "Signal handler installed.\n",
      "git:\n",
      "  sha: 7932e07e5be8a69253a116c7a6ca50d0b453ba36, status: has uncommited changes, branch: main\n",
      "\n",
      "RGBmode: False\n",
      "arch: vit_tiny\n",
      "batch_size_per_gpu: 64\n",
      "center_momentum: 0.9\n",
      "clip_grad: 3.0\n",
      "config: exploratory_configs/config_HPA_FOV_1d_12_4.yml\n",
      "data_path: /home/nick/1d.csv\n",
      "dist_url: env://\n",
      "epochs: 10\n",
      "freeze_last_layer: 1\n",
      "global_crops_scale: (0.4, 1.0)\n",
      "loader: folder\n",
      "local_crops_number: 8\n",
      "local_crops_scale: [0.2, 0.5]\n",
      "local_rank: 0\n",
      "lr: 0.0005\n",
      "min_lr: 1e-06\n",
      "momentum_teacher: 0.996\n",
      "norm_last_layer: True\n",
      "num_channels: 1\n",
      "num_workers: 10\n",
      "optimizer: adamw\n",
      "out_dim: 65536\n",
      "output_dir: output_1d\n",
      "patch_size: 16\n",
      "root_dir_path: /home/ubuntu/data/CellNet_data/Hirano3D_v2.0/data/\n",
      "sample_single_cells: False\n",
      "saveckp_freq: 50\n",
      "scale_factor: 1.0\n",
      "seed: 0\n",
      "student_temp: 0.1\n",
      "teacher_temp: 0.04\n",
      "use_bn_in_head: False\n",
      "use_fp16: True\n",
      "warmup_epochs: 10\n",
      "warmup_teacher_temp: 0.04\n",
      "warmup_teacher_temp_epochs: 0\n",
      "weight_decay: 0.04\n",
      "weight_decay_end: 0.4\n",
      "> /home/nick/Dino4Cells_analysis/main_dino.py(355)train_dino()\n",
      "-> chosen_loader = file_dataset.image_modes[config[\"model\"][\"image_mode\"]]\n",
      "(Pdb) \n",
      "--KeyboardInterrupt--\n",
      "(Pdb) "
     ]
    }
   ],
   "source": [
    "!cd ~/Dino4Cells_analysis; python3 main_dino.py --arch vit_tiny --output_dir output_1d --data_path ~/1d.csv  --saveckp_freq 50 --batch_size_per_gpu 64 --num_channels 1 --patch_size 16 --local_crops_scale 0.2 0.5 --epochs 10 --config exploratory_configs/config_HPA_FOV_1d_12_4.yml --center_momentum 0.9 --lr 0.0005 "
   ]
  },
  {
   "cell_type": "code",
   "execution_count": null,
   "id": "a4730c3c-a034-483a-8970-7a4d4332567c",
   "metadata": {},
   "outputs": [
    {
     "name": "stdout",
     "output_type": "stream",
     "text": [
      "Does not support training without GPU.\n",
      "Signal handler installed.\n",
      "git:\n",
      "  sha: 7932e07e5be8a69253a116c7a6ca50d0b453ba36, status: has uncommited changes, branch: main\n",
      "\n",
      "arch: vit_tiny\n",
      "batch_size_per_gpu: 64\n",
      "center_momentum: 0.9\n",
      "config: exploratory_configs/config_HPA_FOV_1d_12_4.yml\n",
      "data_path: ~/1d.csv\n",
      "epochs: 10\n",
      "local_crops_scale: [0.2, 0.5]\n",
      "lr: 0.0005\n",
      "num_channels: 1\n",
      "output_dir: output_1d\n",
      "patch_size: 16\n",
      "saveckp_freq: 50\n",
      "seed: 42\n",
      "> \u001b[0;32m/home/nick/Dino4Cells_analysis/main_dino.py\u001b[0m(355)\u001b[0;36mtrain_dino\u001b[0;34m()\u001b[0m\n",
      "\u001b[0;32m    353 \u001b[0;31m    \u001b[0mcudnn\u001b[0m\u001b[0;34m.\u001b[0m\u001b[0mbenchmark\u001b[0m \u001b[0;34m=\u001b[0m \u001b[0;32mTrue\u001b[0m\u001b[0;34m\u001b[0m\u001b[0;34m\u001b[0m\u001b[0m\n",
      "\u001b[0m\u001b[0;32m    354 \u001b[0;31m    \u001b[0;32mimport\u001b[0m \u001b[0mpdb\u001b[0m\u001b[0;34m;\u001b[0m \u001b[0mpdb\u001b[0m\u001b[0;34m.\u001b[0m\u001b[0mset_trace\u001b[0m\u001b[0;34m(\u001b[0m\u001b[0;34m)\u001b[0m\u001b[0;34m\u001b[0m\u001b[0;34m\u001b[0m\u001b[0m\n",
      "\u001b[0m\u001b[0;32m--> 355 \u001b[0;31m    \u001b[0mchosen_loader\u001b[0m \u001b[0;34m=\u001b[0m \u001b[0mfile_dataset\u001b[0m\u001b[0;34m.\u001b[0m\u001b[0mimage_modes\u001b[0m\u001b[0;34m[\u001b[0m\u001b[0mconfig\u001b[0m\u001b[0;34m[\u001b[0m\u001b[0;34m\"model\"\u001b[0m\u001b[0;34m]\u001b[0m\u001b[0;34m[\u001b[0m\u001b[0;34m\"image_mode\"\u001b[0m\u001b[0;34m]\u001b[0m\u001b[0;34m]\u001b[0m\u001b[0;34m\u001b[0m\u001b[0;34m\u001b[0m\u001b[0m\n",
      "\u001b[0m\u001b[0;32m    356 \u001b[0;31m    \u001b[0mFileList\u001b[0m \u001b[0;34m=\u001b[0m \u001b[0mfile_dataset\u001b[0m\u001b[0;34m.\u001b[0m\u001b[0mdata_loaders\u001b[0m\u001b[0;34m[\u001b[0m\u001b[0mconfig\u001b[0m\u001b[0;34m[\u001b[0m\u001b[0;34m\"model\"\u001b[0m\u001b[0;34m]\u001b[0m\u001b[0;34m[\u001b[0m\u001b[0;34m\"datatype\"\u001b[0m\u001b[0;34m]\u001b[0m\u001b[0;34m]\u001b[0m\u001b[0;34m\u001b[0m\u001b[0;34m\u001b[0m\u001b[0m\n",
      "\u001b[0m\u001b[0;32m    357 \u001b[0;31m\u001b[0;34m\u001b[0m\u001b[0m\n",
      "\u001b[0m\n"
     ]
    },
    {
     "name": "stdin",
     "output_type": "stream",
     "text": [
      "ipdb>  l\n"
     ]
    },
    {
     "name": "stdout",
     "output_type": "stream",
     "text": [
      "\u001b[1;32m    350 \u001b[0m    print(\n",
      "\u001b[1;32m    351 \u001b[0m        \u001b[0;34m\"\\n\"\u001b[0m\u001b[0;34m.\u001b[0m\u001b[0mjoin\u001b[0m\u001b[0;34m(\u001b[0m\u001b[0;34m\"%s: %s\"\u001b[0m \u001b[0;34m%\u001b[0m \u001b[0;34m(\u001b[0m\u001b[0mk\u001b[0m\u001b[0;34m,\u001b[0m \u001b[0mstr\u001b[0m\u001b[0;34m(\u001b[0m\u001b[0mv\u001b[0m\u001b[0;34m)\u001b[0m\u001b[0;34m)\u001b[0m \u001b[0;32mfor\u001b[0m \u001b[0mk\u001b[0m\u001b[0;34m,\u001b[0m \u001b[0mv\u001b[0m \u001b[0;32min\u001b[0m \u001b[0msorted\u001b[0m\u001b[0;34m(\u001b[0m\u001b[0mdict\u001b[0m\u001b[0;34m(\u001b[0m\u001b[0mvars\u001b[0m\u001b[0;34m(\u001b[0m\u001b[0margs\u001b[0m\u001b[0;34m)\u001b[0m\u001b[0;34m)\u001b[0m\u001b[0;34m.\u001b[0m\u001b[0mitems\u001b[0m\u001b[0;34m(\u001b[0m\u001b[0;34m)\u001b[0m\u001b[0;34m)\u001b[0m\u001b[0;34m)\u001b[0m\u001b[0;34m\u001b[0m\u001b[0;34m\u001b[0m\u001b[0m\n",
      "\u001b[1;32m    352 \u001b[0m    )\n",
      "\u001b[1;32m    353 \u001b[0m    \u001b[0mcudnn\u001b[0m\u001b[0;34m.\u001b[0m\u001b[0mbenchmark\u001b[0m \u001b[0;34m=\u001b[0m \u001b[0;32mTrue\u001b[0m\u001b[0;34m\u001b[0m\u001b[0;34m\u001b[0m\u001b[0m\n",
      "\u001b[1;32m    354 \u001b[0m    \u001b[0;32mimport\u001b[0m \u001b[0mpdb\u001b[0m\u001b[0;34m;\u001b[0m \u001b[0mpdb\u001b[0m\u001b[0;34m.\u001b[0m\u001b[0mset_trace\u001b[0m\u001b[0;34m(\u001b[0m\u001b[0;34m)\u001b[0m\u001b[0;34m\u001b[0m\u001b[0;34m\u001b[0m\u001b[0m\n",
      "\u001b[0;32m--> 355 \u001b[0;31m    \u001b[0mchosen_loader\u001b[0m \u001b[0;34m=\u001b[0m \u001b[0mfile_dataset\u001b[0m\u001b[0;34m.\u001b[0m\u001b[0mimage_modes\u001b[0m\u001b[0;34m[\u001b[0m\u001b[0mconfig\u001b[0m\u001b[0;34m[\u001b[0m\u001b[0;34m\"model\"\u001b[0m\u001b[0;34m]\u001b[0m\u001b[0;34m[\u001b[0m\u001b[0;34m\"image_mode\"\u001b[0m\u001b[0;34m]\u001b[0m\u001b[0;34m]\u001b[0m\u001b[0;34m\u001b[0m\u001b[0;34m\u001b[0m\u001b[0m\n",
      "\u001b[0m\u001b[1;32m    356 \u001b[0m    \u001b[0mFileList\u001b[0m \u001b[0;34m=\u001b[0m \u001b[0mfile_dataset\u001b[0m\u001b[0;34m.\u001b[0m\u001b[0mdata_loaders\u001b[0m\u001b[0;34m[\u001b[0m\u001b[0mconfig\u001b[0m\u001b[0;34m[\u001b[0m\u001b[0;34m\"model\"\u001b[0m\u001b[0;34m]\u001b[0m\u001b[0;34m[\u001b[0m\u001b[0;34m\"datatype\"\u001b[0m\u001b[0;34m]\u001b[0m\u001b[0;34m]\u001b[0m\u001b[0;34m\u001b[0m\u001b[0;34m\u001b[0m\u001b[0m\n",
      "\u001b[1;32m    357 \u001b[0m\u001b[0;34m\u001b[0m\u001b[0m\n",
      "\u001b[1;32m    358 \u001b[0m    \u001b[0;31m# ============ preparing data ... ============\u001b[0m\u001b[0;34m\u001b[0m\u001b[0;34m\u001b[0m\u001b[0m\n",
      "\u001b[1;32m    359 \u001b[0m    \u001b[0mtransform\u001b[0m \u001b[0;34m=\u001b[0m \u001b[0mDataAugmentationDINO\u001b[0m\u001b[0;34m(\u001b[0m\u001b[0mconfig\u001b[0m\u001b[0;34m=\u001b[0m\u001b[0mconfig\u001b[0m\u001b[0;34m)\u001b[0m\u001b[0;34m\u001b[0m\u001b[0;34m\u001b[0m\u001b[0m\n",
      "\u001b[1;32m    360 \u001b[0m    dataset = FileList(\n",
      "\n"
     ]
    },
    {
     "name": "stdin",
     "output_type": "stream",
     "text": [
      "ipdb>  n\n"
     ]
    },
    {
     "name": "stdout",
     "output_type": "stream",
     "text": [
      "> \u001b[0;32m/home/nick/Dino4Cells_analysis/main_dino.py\u001b[0m(356)\u001b[0;36mtrain_dino\u001b[0;34m()\u001b[0m\n",
      "\u001b[0;32m    354 \u001b[0;31m    \u001b[0;32mimport\u001b[0m \u001b[0mpdb\u001b[0m\u001b[0;34m;\u001b[0m \u001b[0mpdb\u001b[0m\u001b[0;34m.\u001b[0m\u001b[0mset_trace\u001b[0m\u001b[0;34m(\u001b[0m\u001b[0;34m)\u001b[0m\u001b[0;34m\u001b[0m\u001b[0;34m\u001b[0m\u001b[0m\n",
      "\u001b[0m\u001b[0;32m    355 \u001b[0;31m    \u001b[0mchosen_loader\u001b[0m \u001b[0;34m=\u001b[0m \u001b[0mfile_dataset\u001b[0m\u001b[0;34m.\u001b[0m\u001b[0mimage_modes\u001b[0m\u001b[0;34m[\u001b[0m\u001b[0mconfig\u001b[0m\u001b[0;34m[\u001b[0m\u001b[0;34m\"model\"\u001b[0m\u001b[0;34m]\u001b[0m\u001b[0;34m[\u001b[0m\u001b[0;34m\"image_mode\"\u001b[0m\u001b[0;34m]\u001b[0m\u001b[0;34m]\u001b[0m\u001b[0;34m\u001b[0m\u001b[0;34m\u001b[0m\u001b[0m\n",
      "\u001b[0m\u001b[0;32m--> 356 \u001b[0;31m    \u001b[0mFileList\u001b[0m \u001b[0;34m=\u001b[0m \u001b[0mfile_dataset\u001b[0m\u001b[0;34m.\u001b[0m\u001b[0mdata_loaders\u001b[0m\u001b[0;34m[\u001b[0m\u001b[0mconfig\u001b[0m\u001b[0;34m[\u001b[0m\u001b[0;34m\"model\"\u001b[0m\u001b[0;34m]\u001b[0m\u001b[0;34m[\u001b[0m\u001b[0;34m\"datatype\"\u001b[0m\u001b[0;34m]\u001b[0m\u001b[0;34m]\u001b[0m\u001b[0;34m\u001b[0m\u001b[0;34m\u001b[0m\u001b[0m\n",
      "\u001b[0m\u001b[0;32m    357 \u001b[0;31m\u001b[0;34m\u001b[0m\u001b[0m\n",
      "\u001b[0m\u001b[0;32m    358 \u001b[0;31m    \u001b[0;31m# ============ preparing data ... ============\u001b[0m\u001b[0;34m\u001b[0m\u001b[0;34m\u001b[0m\u001b[0m\n",
      "\u001b[0m\n"
     ]
    },
    {
     "name": "stdin",
     "output_type": "stream",
     "text": [
      "ipdb>  chosen_loader\n"
     ]
    },
    {
     "name": "stdout",
     "output_type": "stream",
     "text": [
      "<function default_loader at 0x7f62ed357d30>\n"
     ]
    },
    {
     "name": "stdin",
     "output_type": "stream",
     "text": [
      "ipdb>  config[\"model\"][\"image_mode\"]\n"
     ]
    },
    {
     "name": "stdout",
     "output_type": "stream",
     "text": [
      "'normalized_4_channels'\n"
     ]
    },
    {
     "name": "stdin",
     "output_type": "stream",
     "text": [
      "ipdb>  n\n"
     ]
    },
    {
     "name": "stdout",
     "output_type": "stream",
     "text": [
      "> \u001b[0;32m/home/nick/Dino4Cells_analysis/main_dino.py\u001b[0m(359)\u001b[0;36mtrain_dino\u001b[0;34m()\u001b[0m\n",
      "\u001b[0;32m    357 \u001b[0;31m\u001b[0;34m\u001b[0m\u001b[0m\n",
      "\u001b[0m\u001b[0;32m    358 \u001b[0;31m    \u001b[0;31m# ============ preparing data ... ============\u001b[0m\u001b[0;34m\u001b[0m\u001b[0;34m\u001b[0m\u001b[0m\n",
      "\u001b[0m\u001b[0;32m--> 359 \u001b[0;31m    \u001b[0mtransform\u001b[0m \u001b[0;34m=\u001b[0m \u001b[0mDataAugmentationDINO\u001b[0m\u001b[0;34m(\u001b[0m\u001b[0mconfig\u001b[0m\u001b[0;34m=\u001b[0m\u001b[0mconfig\u001b[0m\u001b[0;34m)\u001b[0m\u001b[0;34m\u001b[0m\u001b[0;34m\u001b[0m\u001b[0m\n",
      "\u001b[0m\u001b[0;32m    360 \u001b[0;31m    dataset = FileList(\n",
      "\u001b[0m\u001b[0;32m    361 \u001b[0;31m        \u001b[0margs\u001b[0m\u001b[0;34m.\u001b[0m\u001b[0mdata_path\u001b[0m\u001b[0;34m,\u001b[0m\u001b[0;34m\u001b[0m\u001b[0;34m\u001b[0m\u001b[0m\n",
      "\u001b[0m\n"
     ]
    },
    {
     "name": "stdin",
     "output_type": "stream",
     "text": [
      "ipdb>  n\n"
     ]
    },
    {
     "name": "stdout",
     "output_type": "stream",
     "text": [
      "adding flip_and_color_jitter_transforms: RandomRotation\n",
      "adding flip_and_color_jitter_transforms: RandomHorizontalFlip\n",
      "adding flip_and_color_jitter_transforms: RandomVerticalFlip\n",
      "adding flip_and_color_jitter_transforms: Change_brightness\n",
      "adding flip_and_color_jitter_transforms: Change_contrast\n",
      "adding normalization: ToTensor\n",
      "adding normalization: self_normalize\n",
      "adding testing_transfo: ToTensor\n",
      "adding testing_transfo: self_normalize\n",
      "adding global_transfo1: RandomResizedCrop\n",
      "adding global_transfo2: remove_channel\n",
      "adding global_transfo2: RandomResizedCrop\n",
      "adding local_transfo: remove_channel\n",
      "adding local_transfo: RandomResizedCrop\n",
      "> \u001b[0;32m/home/nick/Dino4Cells_analysis/main_dino.py\u001b[0m(360)\u001b[0;36mtrain_dino\u001b[0;34m()\u001b[0m\n",
      "\u001b[0;32m    358 \u001b[0;31m    \u001b[0;31m# ============ preparing data ... ============\u001b[0m\u001b[0;34m\u001b[0m\u001b[0;34m\u001b[0m\u001b[0m\n",
      "\u001b[0m\u001b[0;32m    359 \u001b[0;31m    \u001b[0mtransform\u001b[0m \u001b[0;34m=\u001b[0m \u001b[0mDataAugmentationDINO\u001b[0m\u001b[0;34m(\u001b[0m\u001b[0mconfig\u001b[0m\u001b[0;34m=\u001b[0m\u001b[0mconfig\u001b[0m\u001b[0;34m)\u001b[0m\u001b[0;34m\u001b[0m\u001b[0;34m\u001b[0m\u001b[0m\n",
      "\u001b[0m\u001b[0;32m--> 360 \u001b[0;31m    dataset = FileList(\n",
      "\u001b[0m\u001b[0;32m    361 \u001b[0;31m        \u001b[0margs\u001b[0m\u001b[0;34m.\u001b[0m\u001b[0mdata_path\u001b[0m\u001b[0;34m,\u001b[0m\u001b[0;34m\u001b[0m\u001b[0;34m\u001b[0m\u001b[0m\n",
      "\u001b[0m\u001b[0;32m    362 \u001b[0;31m        \u001b[0mconfig\u001b[0m\u001b[0;34m[\u001b[0m\u001b[0;34m\"model\"\u001b[0m\u001b[0;34m]\u001b[0m\u001b[0;34m[\u001b[0m\u001b[0;34m\"root\"\u001b[0m\u001b[0;34m]\u001b[0m\u001b[0;34m,\u001b[0m\u001b[0;34m\u001b[0m\u001b[0;34m\u001b[0m\u001b[0m\n",
      "\u001b[0m\n"
     ]
    },
    {
     "name": "stdin",
     "output_type": "stream",
     "text": [
      "ipdb>  n\n"
     ]
    },
    {
     "name": "stdout",
     "output_type": "stream",
     "text": [
      "> \u001b[0;32m/home/nick/Dino4Cells_analysis/main_dino.py\u001b[0m(361)\u001b[0;36mtrain_dino\u001b[0;34m()\u001b[0m\n",
      "\u001b[0;32m    359 \u001b[0;31m    \u001b[0mtransform\u001b[0m \u001b[0;34m=\u001b[0m \u001b[0mDataAugmentationDINO\u001b[0m\u001b[0;34m(\u001b[0m\u001b[0mconfig\u001b[0m\u001b[0;34m=\u001b[0m\u001b[0mconfig\u001b[0m\u001b[0;34m)\u001b[0m\u001b[0;34m\u001b[0m\u001b[0;34m\u001b[0m\u001b[0m\n",
      "\u001b[0m\u001b[0;32m    360 \u001b[0;31m    dataset = FileList(\n",
      "\u001b[0m\u001b[0;32m--> 361 \u001b[0;31m        \u001b[0margs\u001b[0m\u001b[0;34m.\u001b[0m\u001b[0mdata_path\u001b[0m\u001b[0;34m,\u001b[0m\u001b[0;34m\u001b[0m\u001b[0;34m\u001b[0m\u001b[0m\n",
      "\u001b[0m\u001b[0;32m    362 \u001b[0;31m        \u001b[0mconfig\u001b[0m\u001b[0;34m[\u001b[0m\u001b[0;34m\"model\"\u001b[0m\u001b[0;34m]\u001b[0m\u001b[0;34m[\u001b[0m\u001b[0;34m\"root\"\u001b[0m\u001b[0;34m]\u001b[0m\u001b[0;34m,\u001b[0m\u001b[0;34m\u001b[0m\u001b[0;34m\u001b[0m\u001b[0m\n",
      "\u001b[0m\u001b[0;32m    363 \u001b[0;31m        \u001b[0mtransform\u001b[0m\u001b[0;34m=\u001b[0m\u001b[0mtransform\u001b[0m\u001b[0;34m,\u001b[0m\u001b[0;34m\u001b[0m\u001b[0;34m\u001b[0m\u001b[0m\n",
      "\u001b[0m\n"
     ]
    },
    {
     "name": "stdin",
     "output_type": "stream",
     "text": [
      "ipdb>  n\n"
     ]
    },
    {
     "name": "stdout",
     "output_type": "stream",
     "text": [
      "> \u001b[0;32m/home/nick/Dino4Cells_analysis/main_dino.py\u001b[0m(362)\u001b[0;36mtrain_dino\u001b[0;34m()\u001b[0m\n",
      "\u001b[0;32m    360 \u001b[0;31m    dataset = FileList(\n",
      "\u001b[0m\u001b[0;32m    361 \u001b[0;31m        \u001b[0margs\u001b[0m\u001b[0;34m.\u001b[0m\u001b[0mdata_path\u001b[0m\u001b[0;34m,\u001b[0m\u001b[0;34m\u001b[0m\u001b[0;34m\u001b[0m\u001b[0m\n",
      "\u001b[0m\u001b[0;32m--> 362 \u001b[0;31m        \u001b[0mconfig\u001b[0m\u001b[0;34m[\u001b[0m\u001b[0;34m\"model\"\u001b[0m\u001b[0;34m]\u001b[0m\u001b[0;34m[\u001b[0m\u001b[0;34m\"root\"\u001b[0m\u001b[0;34m]\u001b[0m\u001b[0;34m,\u001b[0m\u001b[0;34m\u001b[0m\u001b[0;34m\u001b[0m\u001b[0m\n",
      "\u001b[0m\u001b[0;32m    363 \u001b[0;31m        \u001b[0mtransform\u001b[0m\u001b[0;34m=\u001b[0m\u001b[0mtransform\u001b[0m\u001b[0;34m,\u001b[0m\u001b[0;34m\u001b[0m\u001b[0;34m\u001b[0m\u001b[0m\n",
      "\u001b[0m\u001b[0;32m    364 \u001b[0;31m        \u001b[0mloader\u001b[0m\u001b[0;34m=\u001b[0m\u001b[0mchosen_loader\u001b[0m\u001b[0;34m,\u001b[0m\u001b[0;34m\u001b[0m\u001b[0;34m\u001b[0m\u001b[0m\n",
      "\u001b[0m\n"
     ]
    },
    {
     "name": "stdin",
     "output_type": "stream",
     "text": [
      "ipdb>  n\n"
     ]
    },
    {
     "name": "stdout",
     "output_type": "stream",
     "text": [
      "> \u001b[0;32m/home/nick/Dino4Cells_analysis/main_dino.py\u001b[0m(363)\u001b[0;36mtrain_dino\u001b[0;34m()\u001b[0m\n",
      "\u001b[0;32m    361 \u001b[0;31m        \u001b[0margs\u001b[0m\u001b[0;34m.\u001b[0m\u001b[0mdata_path\u001b[0m\u001b[0;34m,\u001b[0m\u001b[0;34m\u001b[0m\u001b[0;34m\u001b[0m\u001b[0m\n",
      "\u001b[0m\u001b[0;32m    362 \u001b[0;31m        \u001b[0mconfig\u001b[0m\u001b[0;34m[\u001b[0m\u001b[0;34m\"model\"\u001b[0m\u001b[0;34m]\u001b[0m\u001b[0;34m[\u001b[0m\u001b[0;34m\"root\"\u001b[0m\u001b[0;34m]\u001b[0m\u001b[0;34m,\u001b[0m\u001b[0;34m\u001b[0m\u001b[0;34m\u001b[0m\u001b[0m\n",
      "\u001b[0m\u001b[0;32m--> 363 \u001b[0;31m        \u001b[0mtransform\u001b[0m\u001b[0;34m=\u001b[0m\u001b[0mtransform\u001b[0m\u001b[0;34m,\u001b[0m\u001b[0;34m\u001b[0m\u001b[0;34m\u001b[0m\u001b[0m\n",
      "\u001b[0m\u001b[0;32m    364 \u001b[0;31m        \u001b[0mloader\u001b[0m\u001b[0;34m=\u001b[0m\u001b[0mchosen_loader\u001b[0m\u001b[0;34m,\u001b[0m\u001b[0;34m\u001b[0m\u001b[0;34m\u001b[0m\u001b[0m\n",
      "\u001b[0m\u001b[0;32m    365 \u001b[0;31m        flist_reader=partial(\n",
      "\u001b[0m\n"
     ]
    },
    {
     "name": "stdin",
     "output_type": "stream",
     "text": [
      "ipdb>  n\n"
     ]
    },
    {
     "name": "stdout",
     "output_type": "stream",
     "text": [
      "> \u001b[0;32m/home/nick/Dino4Cells_analysis/main_dino.py\u001b[0m(364)\u001b[0;36mtrain_dino\u001b[0;34m()\u001b[0m\n",
      "\u001b[0;32m    362 \u001b[0;31m        \u001b[0mconfig\u001b[0m\u001b[0;34m[\u001b[0m\u001b[0;34m\"model\"\u001b[0m\u001b[0;34m]\u001b[0m\u001b[0;34m[\u001b[0m\u001b[0;34m\"root\"\u001b[0m\u001b[0;34m]\u001b[0m\u001b[0;34m,\u001b[0m\u001b[0;34m\u001b[0m\u001b[0;34m\u001b[0m\u001b[0m\n",
      "\u001b[0m\u001b[0;32m    363 \u001b[0;31m        \u001b[0mtransform\u001b[0m\u001b[0;34m=\u001b[0m\u001b[0mtransform\u001b[0m\u001b[0;34m,\u001b[0m\u001b[0;34m\u001b[0m\u001b[0;34m\u001b[0m\u001b[0m\n",
      "\u001b[0m\u001b[0;32m--> 364 \u001b[0;31m        \u001b[0mloader\u001b[0m\u001b[0;34m=\u001b[0m\u001b[0mchosen_loader\u001b[0m\u001b[0;34m,\u001b[0m\u001b[0;34m\u001b[0m\u001b[0;34m\u001b[0m\u001b[0m\n",
      "\u001b[0m\u001b[0;32m    365 \u001b[0;31m        flist_reader=partial(\n",
      "\u001b[0m\u001b[0;32m    366 \u001b[0;31m            \u001b[0mfile_dataset\u001b[0m\u001b[0;34m.\u001b[0m\u001b[0mpandas_reader_only_file\u001b[0m\u001b[0;34m,\u001b[0m\u001b[0;34m\u001b[0m\u001b[0;34m\u001b[0m\u001b[0m\n",
      "\u001b[0m\n"
     ]
    },
    {
     "name": "stdin",
     "output_type": "stream",
     "text": [
      "ipdb>  n\n"
     ]
    },
    {
     "name": "stdout",
     "output_type": "stream",
     "text": [
      "> \u001b[0;32m/home/nick/Dino4Cells_analysis/main_dino.py\u001b[0m(365)\u001b[0;36mtrain_dino\u001b[0;34m()\u001b[0m\n",
      "\u001b[0;32m    363 \u001b[0;31m        \u001b[0mtransform\u001b[0m\u001b[0;34m=\u001b[0m\u001b[0mtransform\u001b[0m\u001b[0;34m,\u001b[0m\u001b[0;34m\u001b[0m\u001b[0;34m\u001b[0m\u001b[0m\n",
      "\u001b[0m\u001b[0;32m    364 \u001b[0;31m        \u001b[0mloader\u001b[0m\u001b[0;34m=\u001b[0m\u001b[0mchosen_loader\u001b[0m\u001b[0;34m,\u001b[0m\u001b[0;34m\u001b[0m\u001b[0;34m\u001b[0m\u001b[0m\n",
      "\u001b[0m\u001b[0;32m--> 365 \u001b[0;31m        flist_reader=partial(\n",
      "\u001b[0m\u001b[0;32m    366 \u001b[0;31m            \u001b[0mfile_dataset\u001b[0m\u001b[0;34m.\u001b[0m\u001b[0mpandas_reader_only_file\u001b[0m\u001b[0;34m,\u001b[0m\u001b[0;34m\u001b[0m\u001b[0;34m\u001b[0m\u001b[0m\n",
      "\u001b[0m\u001b[0;32m    367 \u001b[0;31m            \u001b[0msample_single_cells\u001b[0m\u001b[0;34m=\u001b[0m\u001b[0margs\u001b[0m\u001b[0;34m.\u001b[0m\u001b[0msample_single_cells\u001b[0m\u001b[0;34m,\u001b[0m\u001b[0;34m\u001b[0m\u001b[0;34m\u001b[0m\u001b[0m\n",
      "\u001b[0m\n"
     ]
    },
    {
     "name": "stdin",
     "output_type": "stream",
     "text": [
      "ipdb>  n\n"
     ]
    },
    {
     "name": "stdout",
     "output_type": "stream",
     "text": [
      "> \u001b[0;32m/home/nick/Dino4Cells_analysis/main_dino.py\u001b[0m(366)\u001b[0;36mtrain_dino\u001b[0;34m()\u001b[0m\n",
      "\u001b[0;32m    364 \u001b[0;31m        \u001b[0mloader\u001b[0m\u001b[0;34m=\u001b[0m\u001b[0mchosen_loader\u001b[0m\u001b[0;34m,\u001b[0m\u001b[0;34m\u001b[0m\u001b[0;34m\u001b[0m\u001b[0m\n",
      "\u001b[0m\u001b[0;32m    365 \u001b[0;31m        flist_reader=partial(\n",
      "\u001b[0m\u001b[0;32m--> 366 \u001b[0;31m            \u001b[0mfile_dataset\u001b[0m\u001b[0;34m.\u001b[0m\u001b[0mpandas_reader_only_file\u001b[0m\u001b[0;34m,\u001b[0m\u001b[0;34m\u001b[0m\u001b[0;34m\u001b[0m\u001b[0m\n",
      "\u001b[0m\u001b[0;32m    367 \u001b[0;31m            \u001b[0msample_single_cells\u001b[0m\u001b[0;34m=\u001b[0m\u001b[0margs\u001b[0m\u001b[0;34m.\u001b[0m\u001b[0msample_single_cells\u001b[0m\u001b[0;34m,\u001b[0m\u001b[0;34m\u001b[0m\u001b[0;34m\u001b[0m\u001b[0m\n",
      "\u001b[0m\u001b[0;32m    368 \u001b[0;31m        ),\n",
      "\u001b[0m\n"
     ]
    },
    {
     "name": "stdin",
     "output_type": "stream",
     "text": [
      "ipdb>  n\n"
     ]
    },
    {
     "name": "stdout",
     "output_type": "stream",
     "text": [
      "> \u001b[0;32m/home/nick/Dino4Cells_analysis/main_dino.py\u001b[0m(367)\u001b[0;36mtrain_dino\u001b[0;34m()\u001b[0m\n",
      "\u001b[0;32m    365 \u001b[0;31m        flist_reader=partial(\n",
      "\u001b[0m\u001b[0;32m    366 \u001b[0;31m            \u001b[0mfile_dataset\u001b[0m\u001b[0;34m.\u001b[0m\u001b[0mpandas_reader_only_file\u001b[0m\u001b[0;34m,\u001b[0m\u001b[0;34m\u001b[0m\u001b[0;34m\u001b[0m\u001b[0m\n",
      "\u001b[0m\u001b[0;32m--> 367 \u001b[0;31m            \u001b[0msample_single_cells\u001b[0m\u001b[0;34m=\u001b[0m\u001b[0margs\u001b[0m\u001b[0;34m.\u001b[0m\u001b[0msample_single_cells\u001b[0m\u001b[0;34m,\u001b[0m\u001b[0;34m\u001b[0m\u001b[0;34m\u001b[0m\u001b[0m\n",
      "\u001b[0m\u001b[0;32m    368 \u001b[0;31m        ),\n",
      "\u001b[0m\u001b[0;32m    369 \u001b[0;31m        \u001b[0mwith_labels\u001b[0m\u001b[0;34m=\u001b[0m\u001b[0;32mFalse\u001b[0m\u001b[0;34m,\u001b[0m\u001b[0;34m\u001b[0m\u001b[0;34m\u001b[0m\u001b[0m\n",
      "\u001b[0m\n"
     ]
    },
    {
     "name": "stdin",
     "output_type": "stream",
     "text": [
      "ipdb>  n\n"
     ]
    },
    {
     "name": "stdout",
     "output_type": "stream",
     "text": [
      "AttributeError: 'Namespace' object has no attribute 'sample_single_cells'\n",
      "> \u001b[0;32m/home/nick/Dino4Cells_analysis/main_dino.py\u001b[0m(367)\u001b[0;36mtrain_dino\u001b[0;34m()\u001b[0m\n",
      "\u001b[0;32m    365 \u001b[0;31m        flist_reader=partial(\n",
      "\u001b[0m\u001b[0;32m    366 \u001b[0;31m            \u001b[0mfile_dataset\u001b[0m\u001b[0;34m.\u001b[0m\u001b[0mpandas_reader_only_file\u001b[0m\u001b[0;34m,\u001b[0m\u001b[0;34m\u001b[0m\u001b[0;34m\u001b[0m\u001b[0m\n",
      "\u001b[0m\u001b[0;32m--> 367 \u001b[0;31m            \u001b[0msample_single_cells\u001b[0m\u001b[0;34m=\u001b[0m\u001b[0margs\u001b[0m\u001b[0;34m.\u001b[0m\u001b[0msample_single_cells\u001b[0m\u001b[0;34m,\u001b[0m\u001b[0;34m\u001b[0m\u001b[0;34m\u001b[0m\u001b[0m\n",
      "\u001b[0m\u001b[0;32m    368 \u001b[0;31m        ),\n",
      "\u001b[0m\u001b[0;32m    369 \u001b[0;31m        \u001b[0mwith_labels\u001b[0m\u001b[0;34m=\u001b[0m\u001b[0;32mFalse\u001b[0m\u001b[0;34m,\u001b[0m\u001b[0;34m\u001b[0m\u001b[0;34m\u001b[0m\u001b[0m\n",
      "\u001b[0m\n"
     ]
    },
    {
     "name": "stdin",
     "output_type": "stream",
     "text": [
      "ipdb>  n\n"
     ]
    },
    {
     "name": "stdout",
     "output_type": "stream",
     "text": [
      "--Return--\n",
      "None\n",
      "> \u001b[0;32m/home/nick/Dino4Cells_analysis/main_dino.py\u001b[0m(367)\u001b[0;36mtrain_dino\u001b[0;34m()\u001b[0m\n",
      "\u001b[0;32m    365 \u001b[0;31m        flist_reader=partial(\n",
      "\u001b[0m\u001b[0;32m    366 \u001b[0;31m            \u001b[0mfile_dataset\u001b[0m\u001b[0;34m.\u001b[0m\u001b[0mpandas_reader_only_file\u001b[0m\u001b[0;34m,\u001b[0m\u001b[0;34m\u001b[0m\u001b[0;34m\u001b[0m\u001b[0m\n",
      "\u001b[0m\u001b[0;32m--> 367 \u001b[0;31m            \u001b[0msample_single_cells\u001b[0m\u001b[0;34m=\u001b[0m\u001b[0margs\u001b[0m\u001b[0;34m.\u001b[0m\u001b[0msample_single_cells\u001b[0m\u001b[0;34m,\u001b[0m\u001b[0;34m\u001b[0m\u001b[0;34m\u001b[0m\u001b[0m\n",
      "\u001b[0m\u001b[0;32m    368 \u001b[0;31m        ),\n",
      "\u001b[0m\u001b[0;32m    369 \u001b[0;31m        \u001b[0mwith_labels\u001b[0m\u001b[0;34m=\u001b[0m\u001b[0;32mFalse\u001b[0m\u001b[0;34m,\u001b[0m\u001b[0;34m\u001b[0m\u001b[0;34m\u001b[0m\u001b[0m\n",
      "\u001b[0m\n"
     ]
    }
   ],
   "source": [
    "train_dino(args, config)"
   ]
  }
 ],
 "metadata": {
  "kernelspec": {
   "display_name": "Python 3 (ipykernel)",
   "language": "python",
   "name": "python3"
  },
  "language_info": {
   "codemirror_mode": {
    "name": "ipython",
    "version": 3
   },
   "file_extension": ".py",
   "mimetype": "text/x-python",
   "name": "python",
   "nbconvert_exporter": "python",
   "pygments_lexer": "ipython3",
   "version": "3.9.13"
  }
 },
 "nbformat": 4,
 "nbformat_minor": 5
}
