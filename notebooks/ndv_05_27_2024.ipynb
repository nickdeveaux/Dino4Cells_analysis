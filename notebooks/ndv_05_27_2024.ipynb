{
 "cells": [
  {
   "cell_type": "markdown",
   "id": "9b511342-b9dd-4edb-90f0-8f10eb905fcf",
   "metadata": {},
   "source": [
    "Thoughts:\n",
    "\n",
    "* We got a bad score on Kaggle when trying to pass the test data through the trained classifier in Zenodo (see ndv_HPA_preprocess_and_writeup.ipynb), Score: 0.11939 when sigining into kaggle with google account nrdeveaux@gmail.com. \n",
    "* Option1: retrain a classifier on train data, pass test data through it.\n",
    "* Option2: do Dino end to end with train data. "
   ]
  },
  {
   "cell_type": "code",
   "execution_count": null,
   "id": "b7cfffcd-1d7b-4208-87a2-35fcccbbda72",
   "metadata": {},
   "outputs": [],
   "source": [
    "One of the many issues: train_IDs are massively duplicated (900,000) in train_ids.pth, but d"
   ]
  }
 ],
 "metadata": {
  "kernelspec": {
   "display_name": "Python [conda env:dino4cells]",
   "language": "python",
   "name": "conda-env-dino4cells-py"
  },
  "language_info": {
   "codemirror_mode": {
    "name": "ipython",
    "version": 3
   },
   "file_extension": ".py",
   "mimetype": "text/x-python",
   "name": "python",
   "nbconvert_exporter": "python",
   "pygments_lexer": "ipython3",
   "version": "3.11.0"
  }
 },
 "nbformat": 4,
 "nbformat_minor": 5
}
