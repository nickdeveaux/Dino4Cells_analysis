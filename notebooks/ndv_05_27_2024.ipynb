{
 "cells": [
  {
   "cell_type": "code",
   "execution_count": 4,
   "metadata": {},
   "outputs": [],
   "source": [
    "# Set conda env to dino4cells\n",
    "data_dir = '/mnt/vast/hpc/LDB/LDB_data/microscopy/HPA/whole_images/'\n",
    "import os\n",
    "import torch"
   ]
  },
  {
   "cell_type": "markdown",
   "metadata": {},
   "source": [
    "One of the many issues: train_IDs are massively duplicated (900,000) in train_ids.pth, but Wolf has cleaned it already:\n",
    "\n",
    "\n",
    "\"So, the files we should use in general are under /mnt/vast/hpc/LDB/LDB_data/microscopy/HPA/whole_images/:\n",
    "Master_fovHPA_512.csv (all HPA images that we should use)\n",
    "fovHPA_train_IDs_proteinloc.pth (cleaned and de-duplicated train_IDs)\n",
    "fovHPA_valid_IDs_proteinloc.pth (cleaned and de-duplicated valid_IDs) \" -Wolf"
   ]
  },
  {
   "cell_type": "code",
   "execution_count": 5,
   "metadata": {},
   "outputs": [
    {
     "data": {
      "text/plain": [
       "['.ipynb_checkpoints',\n",
       " '03-02-2024_4d_train_umap_embeddings',\n",
       " '512_whole_images',\n",
       " '512_whole_images_kaggle_test',\n",
       " 'DINO_features_HPA_FOV_test.pth',\n",
       " 'DINO_features_HPA_FOV_train.pth',\n",
       " 'DINO_features_HPA_FOV_valid.pth',\n",
       " 'DINO_features_for_HPA_FOV.pth',\n",
       " 'Kaggle_test_fovHPA_512.csv',\n",
       " 'Master_fovHPA_512.csv',\n",
       " 'Master_fovHPA_512_1d.csv',\n",
       " 'Master_fovHPA_512_save.csv',\n",
       " 'fovHPA_1d_512.csv',\n",
       " 'fovHPA_train_IDs_proteinloc.pth',\n",
       " 'fovHPA_valid_IDs_proteinloc.pth',\n",
       " 'kaggle_test_data_direct.csv',\n",
       " 'large_whole_images',\n",
       " 'sample_submission.csv',\n",
       " 'submission_whole_images_4d_2_19.csv',\n",
       " 'submission_whole_images_4d_3epochs_03_02.csv',\n",
       " 'train',\n",
       " 'train.csv',\n",
       " 'zenodo']"
      ]
     },
     "execution_count": 5,
     "metadata": {},
     "output_type": "execute_result"
    }
   ],
   "source": [
    "\n",
    "os.listdir(data_dir)"
   ]
  },
  {
   "cell_type": "code",
   "execution_count": 10,
   "metadata": {},
   "outputs": [],
   "source": [
    "train_ids = torch.load(os.path.join(data_dir, 'fovHPA_train_IDs_proteinloc.pth'))\n",
    "valid_ids = torch.load(os.path.join(data_dir, 'fovHPA_valid_IDs_proteinloc.pth'))"
   ]
  },
  {
   "cell_type": "code",
   "execution_count": 11,
   "metadata": {},
   "outputs": [
    {
     "data": {
      "text/plain": [
       "18028"
      ]
     },
     "execution_count": 11,
     "metadata": {},
     "output_type": "execute_result"
    }
   ],
   "source": [
    "len(valid_ids)"
   ]
  },
  {
   "cell_type": "code",
   "execution_count": 12,
   "metadata": {},
   "outputs": [
    {
     "name": "stderr",
     "output_type": "stream",
     "text": [
      "/tmp/ipykernel_30269/1435998313.py:1: DeprecationWarning: \n",
      "Pyarrow will become a required dependency of pandas in the next major release of pandas (pandas 3.0),\n",
      "(to allow more performant data types, such as the Arrow string type, and better interoperability with other libraries)\n",
      "but was not found to be installed on your system.\n",
      "If this would cause problems for you,\n",
      "please provide us feedback at https://github.com/pandas-dev/pandas/issues/54466\n",
      "        \n",
      "  import pandas as pd\n"
     ]
    }
   ],
   "source": [
    "import pandas as pd\n",
    "fov_img = pd.read_csv(os.path.join(data_dir, 'Master_fovHPA_512.csv'))"
   ]
  },
  {
   "cell_type": "code",
   "execution_count": 17,
   "metadata": {},
   "outputs": [],
   "source": [
    "\n",
    "# Create a new column with the full path\n",
    "fov_img['file'] = fov_img['Path'].apply(lambda x: f\"/mnt/vast/hpc/LDB/LDB_data/microscopy/HPA/{x}\")\n"
   ]
  },
  {
   "cell_type": "code",
   "execution_count": 22,
   "metadata": {},
   "outputs": [],
   "source": [
    "fov_img.to_csv(os.path.join(data_dir, 'Master_fovHPA_512_with_file.csv'))"
   ]
  },
  {
   "cell_type": "markdown",
   "metadata": {},
   "source": [
    "Known issue: first inconsistency: len of train and valid in that dir is 113545 total, len of train_ids in zenodo is 117883. \n",
    "\n",
    "Wolf's comment: its due to duplication. "
   ]
  },
  {
   "cell_type": "markdown",
   "metadata": {},
   "source": [
    "### YAML Creation\n",
    "\n",
    "Keeping the config of the broad_institute repo, removing duplicates and classification section, exploratory_configs/2024_05_27_config_HPA_FOV_rerun.yaml. changed it to vit_base. making submission script: exploratory_configs/2024_05_27_run_end_to_end.sh "
   ]
  },
  {
   "cell_type": "code",
   "execution_count": null,
   "metadata": {},
   "outputs": [],
   "source": [
    "sbatch --partition GEN-GPU --gres=gpu:1 -t 48:00:00 exploratory_configs/2024_05_27_run_end_to_end.sh"
   ]
  },
  {
   "cell_type": "markdown",
   "metadata": {},
   "source": [
    "CUDA_VISIBLE_DEVICES=0 python /mnt/vast/hpc/homes/ndv2107/Dino4Cells_analysis/run_dino.py --config /mnt/vast/hpc/homes/ndv2107/Dino4Cells_analysis/exploratory_configs/2024_05_27_config_HPA_FOV_rerun.yaml 2>&1 | tee log.txt"
   ]
  },
  {
   "cell_type": "code",
   "execution_count": null,
   "metadata": {},
   "outputs": [],
   "source": [
    "Error: ModuleNotFoundError: No module named 'kornia'\n",
    "Trying a fix: (dino4cells) ndv2107@hgrclogin01:~$ /home/ndv2107/miniconda3/envs/dino4cells/bin/pip install kornia\n",
    "Error: DINO: error: unrecognized arguments: --local-rank=0\n",
    "Trying a fix: replace run_dino.py with run_end_to_end.py\n",
    "Error: \n",
    "  import pandas as pd\n",
    "Namespace(config='/mnt/vast/hpc/homes/ndv2107/Dino4Cells_analysis/exploratory_configs/2024_05_27_config_HPA_FOV_rerun.yaml', checkpoint_frq=50, checksize=3, check_batch=None, test_last=False, train='True', test='True', dist_url='env://')\n",
    "[]\n",
    "Traceback (most recent call last):\n",
    "  File \"/mnt/vast/hpc/homes/ndv2107/Dino4Cells_analysis/run_end_to_end.py\", line 658, in <module>\n",
    "    if \"--local_rank\" in unknown[0]:\n",
    "                         ~~~~~~~^^^\n",
    "IndexError: list index out of range"
   ]
  },
  {
   "cell_type": "markdown",
   "metadata": {},
   "source": [
    "What is this local_rank param it's complaining about? Not in the yaml. Root Cause (first observed failure):\n",
    "[0]:\n",
    "  time      : 2024-05-27_14:24:38\n",
    "  host      : gpunode01\n",
    "  rank      : 0 (local_rank: 0)\n",
    "  exitcode  : 2 (pid: 2519950)\n",
    "  error_file: <N/A>\n",
    "  traceback : To enable traceback see: https://pytorch.org/docs/stable/elastic/errors.html\n",
    "============================================================\n",
    "CUDA_VISIBLE_DEVICES=. python3 -m torch.distributed.launch --master_port=29501 --nproc_per_node=1 main_dino.py --arch vit_base --output_dir output/ --data_path /mnt/vast/hpc/LDB/LDB_data/microscopy/HPA/whole_images/Master_fovHPA_512.csv  --saveckp_freq 50 --batch_size_per_gpu 24 --num_channels 5 --patch_size 16 --local_crops_scale 0.2 0.5 --epochs 10 --config /mnt/vast/hpc/homes/ndv2107/Dino4Cells_analysis/exploratory_configs/2024_05_27_config_HPA_FOV_rerun.yaml --center_momentum 0.9 --lr 0.0005"
   ]
  },
  {
   "cell_type": "markdown",
   "metadata": {},
   "source": [
    "```RuntimeError: ProcessGroupNCCL is only supported with GPUs, no GPUs found!````"
   ]
  },
  {
   "cell_type": "code",
   "execution_count": null,
   "metadata": {},
   "outputs": [],
   "source": [
    "Trying this:\n",
    "sbatch --partition GEN-GPU --gres=gpu:0 -t 48:00:00 exploratory_configs/2024_05_27_run_end_to_end.sh\n",
    "Submitted batch job 318480\n",
    "(dino4cells) ndv2107@hgrclogin01:~/Dino4Cells_analysis$ tail -f slurm-318480.out"
   ]
  },
  {
   "cell_type": "markdown",
   "metadata": {},
   "source": [
    "the fix is to run `sbatch --partition GEN-GPU --gres=gpu:1 -t 48:00:00 exploratory_configs/2024_05_27_run_end_to_end.sh`\n",
    "on this git commit:\n",
    "\n",
    "https://github.com/broadinstitute/Dino4Cells_analysis/commit/f828b138ae69d6e27d04f173c7f235f0adba0706"
   ]
  }
 ],
 "metadata": {
  "kernelspec": {
   "display_name": "Python [conda env:dino4cells]",
   "language": "python",
   "name": "conda-env-dino4cells-py"
  },
  "language_info": {
   "codemirror_mode": {
    "name": "ipython",
    "version": 3
   },
   "file_extension": ".py",
   "mimetype": "text/x-python",
   "name": "python",
   "nbconvert_exporter": "python",
   "pygments_lexer": "ipython3",
   "version": "3.11.0"
  }
 },
 "nbformat": 4,
 "nbformat_minor": 2
}
